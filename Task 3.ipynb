{
 "cells": [
  {
   "cell_type": "code",
   "execution_count": 8,
   "metadata": {
    "scrolled": true
   },
   "outputs": [],
   "source": [
    "# Load necessary library\n",
    "# install.packages(\"readxl\")  # For reading Excel files\n",
    "# install.packages(\"dplyr\")   # For data manipulation\n",
    "\n",
    "library(readxl)\n",
    "library(dplyr)"
   ]
  },
  {
   "cell_type": "code",
   "execution_count": 16,
   "metadata": {},
   "outputs": [],
   "source": [
    "# Set working directory\n",
    "setwd(\"D:\\\\OEL\\ 1\")"
   ]
  },
  {
   "cell_type": "code",
   "execution_count": 10,
   "metadata": {},
   "outputs": [
    {
     "name": "stdout",
     "output_type": "stream",
     "text": [
      "[1] \"Invoice\"     \"StockCode\"   \"Description\" \"Quantity\"    \"InvoiceDate\"\n",
      "[6] \"Price\"       \"Customer ID\" \"Country\"    \n"
     ]
    }
   ],
   "source": [
    "# Load dataset\n",
    "data <- read_excel(\"online_retail_II.xlsx\")\n",
    "print(colnames(data))"
   ]
  },
  {
   "cell_type": "code",
   "execution_count": 11,
   "metadata": {},
   "outputs": [],
   "source": [
    "# Remove rows with missing CustomerID\n",
    "cleaned_data <- data %>% filter(!is.na(`Customer ID`)) "
   ]
  },
  {
   "cell_type": "code",
   "execution_count": 12,
   "metadata": {},
   "outputs": [],
   "source": [
    "# Replace missing values in UnitPrice and Quantity with their median\n",
    "cleaned_data$Price[is.na(cleaned_data$Price)] <- median(cleaned_data$Price, na.rm = TRUE)\n",
    "cleaned_data$Quantity[is.na(cleaned_data$Quantity)] <- median(cleaned_data$Quantity, na.rm = TRUE)"
   ]
  },
  {
   "cell_type": "code",
   "execution_count": 13,
   "metadata": {},
   "outputs": [],
   "source": [
    "# Save the cleaned dataset\n",
    "write.csv(cleaned_data, \"processed_online_retail.csv\", row.names = FALSE)"
   ]
  },
  {
   "cell_type": "code",
   "execution_count": 14,
   "metadata": {},
   "outputs": [
    {
     "data": {
      "text/plain": [
       "   Invoice           StockCode         Description           Quantity       \n",
       " Length:417534      Length:417534      Length:417534      Min.   :-9360.00  \n",
       " Class :character   Class :character   Class :character   1st Qu.:    2.00  \n",
       " Mode  :character   Mode  :character   Mode  :character   Median :    4.00  \n",
       "                                                          Mean   :   12.76  \n",
       "                                                          3rd Qu.:   12.00  \n",
       "                                                          Max.   :19152.00  \n",
       "  InvoiceDate                         Price            Customer ID   \n",
       " Min.   :2009-12-01 07:45:00.00   Min.   :    0.000   Min.   :12346  \n",
       " 1st Qu.:2010-03-26 11:26:00.00   1st Qu.:    1.250   1st Qu.:13983  \n",
       " Median :2010-07-08 19:12:00.00   Median :    1.950   Median :15311  \n",
       " Mean   :2010-07-01 01:12:19.78   Mean   :    3.888   Mean   :15361  \n",
       " 3rd Qu.:2010-10-14 14:08:00.00   3rd Qu.:    3.750   3rd Qu.:16799  \n",
       " Max.   :2010-12-09 20:01:00.00   Max.   :25111.090   Max.   :18287  \n",
       "   Country         \n",
       " Length:417534     \n",
       " Class :character  \n",
       " Mode  :character  \n",
       "                   \n",
       "                   \n",
       "                   "
      ]
     },
     "metadata": {},
     "output_type": "display_data"
    }
   ],
   "source": [
    "# Display summary\n",
    "summary(cleaned_data)"
   ]
  },
  {
   "cell_type": "code",
   "execution_count": 15,
   "metadata": {},
   "outputs": [],
   "source": [
    "# Task 4"
   ]
  },
  {
   "cell_type": "code",
   "execution_count": 17,
   "metadata": {},
   "outputs": [
    {
     "name": "stderr",
     "output_type": "stream",
     "text": [
      "Loading required package: ggplot2\n",
      "\n",
      "Loading required package: lattice\n",
      "\n"
     ]
    }
   ],
   "source": [
    "# Load necessary libraries\n",
    "library(caTools)\n",
    "library(caret)"
   ]
  },
  {
   "cell_type": "code",
   "execution_count": 18,
   "metadata": {},
   "outputs": [],
   "source": [
    "# Load dataset\n",
    "data <- read.csv(\"diabetes.csv\")"
   ]
  },
  {
   "cell_type": "code",
   "execution_count": 19,
   "metadata": {},
   "outputs": [
    {
     "name": "stdout",
     "output_type": "stream",
     "text": [
      "'data.frame':\t768 obs. of  9 variables:\n",
      " $ Pregnancies             : int  6 1 8 1 0 5 3 10 2 8 ...\n",
      " $ Glucose                 : int  148 85 183 89 137 116 78 115 197 125 ...\n",
      " $ BloodPressure           : int  72 66 64 66 40 74 50 0 70 96 ...\n",
      " $ SkinThickness           : int  35 29 0 23 35 0 32 0 45 0 ...\n",
      " $ Insulin                 : int  0 0 0 94 168 0 88 0 543 0 ...\n",
      " $ BMI                     : num  33.6 26.6 23.3 28.1 43.1 25.6 31 35.3 30.5 0 ...\n",
      " $ DiabetesPedigreeFunction: num  0.627 0.351 0.672 0.167 2.288 ...\n",
      " $ Age                     : int  50 31 32 21 33 30 26 29 53 54 ...\n",
      " $ Outcome                 : int  1 0 1 0 1 0 1 0 1 1 ...\n"
     ]
    }
   ],
   "source": [
    "# Check data structure\n",
    "str(data)"
   ]
  },
  {
   "cell_type": "code",
   "execution_count": 20,
   "metadata": {},
   "outputs": [],
   "source": [
    "# Convert Outcome to factor (required for classification)\n",
    "data$Outcome <- as.factor(data$Outcome)"
   ]
  },
  {
   "cell_type": "code",
   "execution_count": 21,
   "metadata": {},
   "outputs": [],
   "source": [
    "# Split data (80% training, 20% testing)\n",
    "set.seed(69)  # For reproducibility\n",
    "split <- sample.split(data$Outcome, SplitRatio = 0.8)\n",
    "train_data <- subset(data, split == TRUE)\n",
    "test_data  <- subset(data, split == FALSE)"
   ]
  },
  {
   "cell_type": "code",
   "execution_count": 22,
   "metadata": {},
   "outputs": [],
   "source": [
    "# Train Logistic Regression Model\n",
    "model <- glm(Outcome ~ ., data = train_data, family = binomial)"
   ]
  },
  {
   "cell_type": "code",
   "execution_count": 23,
   "metadata": {},
   "outputs": [],
   "source": [
    "# Make predictions on test data\n",
    "predictions <- predict(model, test_data, type = \"response\")"
   ]
  },
  {
   "cell_type": "code",
   "execution_count": 24,
   "metadata": {},
   "outputs": [],
   "source": [
    "# Convert probabilities to binary values (0 or 1)\n",
    "predicted_classes <- ifelse(predictions > 0.5, 1, 0)"
   ]
  },
  {
   "cell_type": "code",
   "execution_count": 25,
   "metadata": {},
   "outputs": [],
   "source": [
    "# Convert to factor for comparison\n",
    "predicted_classes <- as.factor(predicted_classes)"
   ]
  },
  {
   "cell_type": "code",
   "execution_count": 26,
   "metadata": {},
   "outputs": [],
   "source": [
    "# Calculate Accuracy\n",
    "accuracy <- mean(predicted_classes == test_data$Outcome)"
   ]
  },
  {
   "cell_type": "code",
   "execution_count": 27,
   "metadata": {},
   "outputs": [
    {
     "name": "stdout",
     "output_type": "stream",
     "text": [
      "[1] \"Model Accuracy: 75.97 %\"\n"
     ]
    }
   ],
   "source": [
    "# Print accuracy\n",
    "print(paste(\"Model Accuracy:\", round(accuracy * 100, 2), \"%\"))"
   ]
  },
  {
   "cell_type": "code",
   "execution_count": null,
   "metadata": {},
   "outputs": [],
   "source": []
  }
 ],
 "metadata": {
  "kernelspec": {
   "display_name": "R",
   "language": "R",
   "name": "ir"
  },
  "language_info": {
   "codemirror_mode": "r",
   "file_extension": ".r",
   "mimetype": "text/x-r-source",
   "name": "R",
   "pygments_lexer": "r",
   "version": "4.4.3"
  }
 },
 "nbformat": 4,
 "nbformat_minor": 2
}
